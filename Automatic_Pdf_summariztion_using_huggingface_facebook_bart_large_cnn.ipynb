{
  "nbformat": 4,
  "nbformat_minor": 0,
  "metadata": {
    "colab": {
      "provenance": []
    },
    "kernelspec": {
      "name": "python3",
      "display_name": "Python 3"
    },
    "language_info": {
      "name": "python"
    }
  },
  "cells": [
    {
      "cell_type": "code",
      "source": [
        "!pip install PyPDF2 transformers"
      ],
      "metadata": {
        "colab": {
          "base_uri": "https://localhost:8080/"
        },
        "id": "XbNsZ2FozMu2",
        "outputId": "8dfb94cb-6627-443d-fb12-cf368fa70f47"
      },
      "execution_count": 2,
      "outputs": [
        {
          "output_type": "stream",
          "name": "stdout",
          "text": [
            "Requirement already satisfied: PyPDF2 in /usr/local/lib/python3.10/dist-packages (3.0.1)\n",
            "Requirement already satisfied: transformers in /usr/local/lib/python3.10/dist-packages (4.42.4)\n",
            "Requirement already satisfied: filelock in /usr/local/lib/python3.10/dist-packages (from transformers) (3.15.4)\n",
            "Requirement already satisfied: huggingface-hub<1.0,>=0.23.2 in /usr/local/lib/python3.10/dist-packages (from transformers) (0.23.5)\n",
            "Requirement already satisfied: numpy<2.0,>=1.17 in /usr/local/lib/python3.10/dist-packages (from transformers) (1.26.4)\n",
            "Requirement already satisfied: packaging>=20.0 in /usr/local/lib/python3.10/dist-packages (from transformers) (24.1)\n",
            "Requirement already satisfied: pyyaml>=5.1 in /usr/local/lib/python3.10/dist-packages (from transformers) (6.0.2)\n",
            "Requirement already satisfied: regex!=2019.12.17 in /usr/local/lib/python3.10/dist-packages (from transformers) (2024.5.15)\n",
            "Requirement already satisfied: requests in /usr/local/lib/python3.10/dist-packages (from transformers) (2.32.3)\n",
            "Requirement already satisfied: safetensors>=0.4.1 in /usr/local/lib/python3.10/dist-packages (from transformers) (0.4.4)\n",
            "Requirement already satisfied: tokenizers<0.20,>=0.19 in /usr/local/lib/python3.10/dist-packages (from transformers) (0.19.1)\n",
            "Requirement already satisfied: tqdm>=4.27 in /usr/local/lib/python3.10/dist-packages (from transformers) (4.66.5)\n",
            "Requirement already satisfied: fsspec>=2023.5.0 in /usr/local/lib/python3.10/dist-packages (from huggingface-hub<1.0,>=0.23.2->transformers) (2024.6.1)\n",
            "Requirement already satisfied: typing-extensions>=3.7.4.3 in /usr/local/lib/python3.10/dist-packages (from huggingface-hub<1.0,>=0.23.2->transformers) (4.12.2)\n",
            "Requirement already satisfied: charset-normalizer<4,>=2 in /usr/local/lib/python3.10/dist-packages (from requests->transformers) (3.3.2)\n",
            "Requirement already satisfied: idna<4,>=2.5 in /usr/local/lib/python3.10/dist-packages (from requests->transformers) (3.7)\n",
            "Requirement already satisfied: urllib3<3,>=1.21.1 in /usr/local/lib/python3.10/dist-packages (from requests->transformers) (2.0.7)\n",
            "Requirement already satisfied: certifi>=2017.4.17 in /usr/local/lib/python3.10/dist-packages (from requests->transformers) (2024.7.4)\n"
          ]
        }
      ]
    },
    {
      "cell_type": "code",
      "source": [
        "import PyPDF2\n",
        "from transformers import pipeline\n",
        "import os\n"
      ],
      "metadata": {
        "id": "nvKa1tTezMx4"
      },
      "execution_count": 3,
      "outputs": []
    },
    {
      "cell_type": "code",
      "source": [
        "\n",
        "def get_uploaded_file():\n",
        "    \"\"\"Automatically gets the uploaded PDF file name from the Colab environment.\"\"\"\n",
        "    files = [f for f in os.listdir('/content') if f.endswith('.pdf')]\n",
        "    return files[0] if files else None"
      ],
      "metadata": {
        "id": "xV8jX2rLzM0n"
      },
      "execution_count": 4,
      "outputs": []
    },
    {
      "cell_type": "code",
      "source": [
        "def extract_text_from_pdf(pdf_name, max_pages=None):\n",
        "    \"\"\"Extracts text from a PDF with optional page limit.\"\"\"\n",
        "    pdf_path = f'/content/{pdf_name}'\n",
        "    text = \"\"\n",
        "    with open(pdf_path, 'rb') as file:\n",
        "        reader = PyPDF2.PdfReader(file)\n",
        "        total_pages = len(reader.pages)\n",
        "        num_pages = min(total_pages, max_pages) if max_pages else total_pages\n",
        "        for page in range(num_pages):\n",
        "            text += reader.pages[page].extract_text()\n",
        "    return text"
      ],
      "metadata": {
        "id": "5m-3MvMIzM3X"
      },
      "execution_count": 5,
      "outputs": []
    },
    {
      "cell_type": "code",
      "source": [
        "def preprocess_text(text):\n",
        "    \"\"\"Preprocess text by removing extra spaces and newlines.\"\"\"\n",
        "    return \" \".join(text.split())"
      ],
      "metadata": {
        "id": "xyKbYNBfzNHJ"
      },
      "execution_count": 6,
      "outputs": []
    },
    {
      "cell_type": "code",
      "source": [
        "def summarize_text(text, max_length=150, min_length=50):\n",
        "    \"\"\"Summarizes the given text using a transformer-based model.\"\"\"\n",
        "    summarizer = pipeline(\"summarization\", model=\"facebook/bart-large-cnn\")\n",
        "    return summarizer(text, max_length=max_length, min_length=min_length, do_sample=False)[0]['summary_text']\n"
      ],
      "metadata": {
        "id": "Qc2h-jnkzfTO"
      },
      "execution_count": 7,
      "outputs": []
    },
    {
      "cell_type": "code",
      "source": [
        "if __name__ == \"__main__\":\n",
        "    # Automatically get the uploaded PDF file name\n",
        "    file_name = get_uploaded_file()\n",
        "\n",
        "    if file_name:\n",
        "        # Extract and preprocess text from the first few pages of the PDF\n",
        "        text = extract_text_from_pdf(file_name, max_pages=3)\n",
        "        processed_text = preprocess_text(text)\n",
        "\n",
        "        summary = summarize_text(processed_text, max_length=150, min_length=50)\n",
        "\n",
        "        print(f\"\\nSummary of '{file_name}':\")\n",
        "        print(summary)\n",
        "    else:\n",
        "        print(\"No PDF file found in the Colab environment.\")\n"
      ],
      "metadata": {
        "colab": {
          "base_uri": "https://localhost:8080/"
        },
        "id": "jvVvB3Xmzfeg",
        "outputId": "bf95d70a-b582-41d8-ff63-f009492cb30c"
      },
      "execution_count": 8,
      "outputs": [
        {
          "output_type": "stream",
          "name": "stdout",
          "text": [
            "\n",
            "Summary of '211010206_Aditya_Kaul(SDE).pdf':\n",
            "Aditya Kaul IIIT, Naya Raipur 7.5/10 B.Tech in Electronics and Communication Dec. 2021 – May 2025 Experience Software Developmen Intern June 2023 – July 2023 Birlasoft Gurugram. Designed and implemented functions to generate tabular Excel data.\n"
          ]
        }
      ]
    }
  ]
}